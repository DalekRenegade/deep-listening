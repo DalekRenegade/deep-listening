{
 "cells": [
  {
   "cell_type": "markdown",
   "metadata": {
    "collapsed": true
   },
   "source": [
    "## Workbook 2 - Training a Feed-Forward Neural Network using UrbanSound8K audio data "
   ]
  },
  {
   "cell_type": "markdown",
   "metadata": {},
   "source": [
    "This loads the features we extracted using librosa (see workbook 1), and uses them to train a Feed-Forward Network, a simple deep neural net with a few hidden layers, and then predict the class of a set of previously unheard audio files. You will need librosa, keras and tensorflow installed to run this code."
   ]
  },
  {
   "cell_type": "code",
   "execution_count": 1,
   "metadata": {
    "collapsed": false
   },
   "outputs": [],
   "source": [
    "import glob\n",
    "import os\n",
    "import numpy as np\n",
    "import matplotlib.pyplot as plt\n",
    "%matplotlib inline\n",
    "plt.style.use('ggplot')"
   ]
  },
  {
   "cell_type": "markdown",
   "metadata": {},
   "source": [
    "This code below loads previously computed numpy features for each of the 10 folds, we'll use the first 8 for training, and keep one back for validation and one for testing."
   ]
  },
  {
   "cell_type": "code",
   "execution_count": 2,
   "metadata": {
    "collapsed": false
   },
   "outputs": [
    {
     "name": "stdout",
     "output_type": "stream",
     "text": [
      "\n",
      "Adding fold1\n",
      "New Features:  (873, 193)\n",
      "\n",
      "Adding fold2\n",
      "New Features:  (888, 193)\n",
      "\n",
      "Adding fold3\n",
      "New Features:  (925, 193)\n",
      "\n",
      "Adding fold4\n",
      "New Features:  (990, 193)\n",
      "\n",
      "Adding fold5\n",
      "New Features:  (936, 193)\n",
      "\n",
      "Adding fold6\n",
      "New Features:  (823, 193)\n",
      "\n",
      "Adding fold7\n",
      "New Features:  (838, 193)\n",
      "\n",
      "Adding fold8\n",
      "New Features:  (806, 193)\n",
      "\n",
      "Training Set Features:  (7079, 193)\n",
      "Training Set Labels:  (7079, 10)\n",
      "Test Set Features:   (837, 193)\n",
      "Test Set Labels:   (837, 10)\n"
     ]
    }
   ],
   "source": [
    "data_dir = \"data/us8k-np-ffn\"\n",
    "\n",
    "def add_folds():\n",
    "    subsequent_fold = False\n",
    "    for k in range(1,9):\n",
    "        fold_name = 'fold' + str(k)\n",
    "        print \"\\nAdding \" + fold_name\n",
    "        feature_file = os.path.join(data_dir, fold_name + '_x.npy')\n",
    "        labels_file = os.path.join(data_dir, fold_name + '_y.npy')\n",
    "        loaded_features = np.load(feature_file)\n",
    "        loaded_labels = np.load(labels_file)\n",
    "        print \"New Features: \", loaded_features.shape\n",
    "\n",
    "        if subsequent_fold:\n",
    "            features = np.concatenate((features, loaded_features))\n",
    "            labels = np.concatenate((labels, loaded_labels))\n",
    "        else:\n",
    "            features = loaded_features\n",
    "            labels = loaded_labels\n",
    "            subsequent_fold = True\n",
    "        \n",
    "    return features, labels\n",
    "\n",
    "train_x, train_y = add_folds()\n",
    "\n",
    "# use a fold for validation\n",
    "valid_fold_name = 'fold9'\n",
    "feature_file = os.path.join(data_dir, valid_fold_name + '_x.npy')\n",
    "labels_file = os.path.join(data_dir, valid_fold_name + '_y.npy')\n",
    "valid_x = np.load(feature_file)\n",
    "valid_y = np.load(labels_file) \n",
    "\n",
    "# and a fold for testing\n",
    "test_fold_name = 'fold10'\n",
    "feature_file = os.path.join(data_dir, test_fold_name + '_x.npy')\n",
    "labels_file = os.path.join(data_dir, test_fold_name + '_y.npy')\n",
    "test_x = np.load(feature_file)\n",
    "test_y = np.load(labels_file)\n",
    "\n",
    "print \"\\nTraining Set Features: \", train_x.shape\n",
    "print \"Training Set Labels: \", train_y.shape\n",
    "print \"Test Set Features:  \", test_x.shape\n",
    "print \"Test Set Labels:  \", test_y.shape\n"
   ]
  },
  {
   "cell_type": "markdown",
   "metadata": {},
   "source": [
    "--------------------------------------------------------------------------------------------------------------------------"
   ]
  },
  {
   "cell_type": "markdown",
   "metadata": {},
   "source": [
    "### Training Neural Network with Keras and TensorFlow"
   ]
  },
  {
   "cell_type": "code",
   "execution_count": 3,
   "metadata": {
    "collapsed": false
   },
   "outputs": [
    {
     "name": "stderr",
     "output_type": "stream",
     "text": [
      "Using TensorFlow backend.\n"
     ]
    }
   ],
   "source": [
    "import tensorflow as tf\n",
    "from sklearn.metrics import precision_recall_fscore_support, roc_auc_score\n",
    "from keras.models import Sequential\n",
    "from keras.layers import Dense, Dropout\n",
    "from keras.optimizers import Adam\n",
    "from keras.callbacks import EarlyStopping"
   ]
  },
  {
   "cell_type": "code",
   "execution_count": 79,
   "metadata": {
    "collapsed": false
   },
   "outputs": [
    {
     "name": "stdout",
     "output_type": "stream",
     "text": [
      "Feature dimensions:  193\n"
     ]
    }
   ],
   "source": [
    "def assure_path_exists(path):\n",
    "    mydir = os.path.join(os.getcwd(), path)\n",
    "    if not os.path.exists(mydir):\n",
    "        os.makedirs(mydir)\n",
    "\n",
    "# this is redundant and can be updated for Keras\n",
    "training_epochs = 20\n",
    "n_dim = train_x.shape[1]\n",
    "n_classes = 10\n",
    "n_hidden_units_1 = 300 # n_dim * 1.5 \n",
    "n_hidden_units_2 = 450 # n_hidden_units_1 * 1.5\n",
    "n_hidden_units_3 = 200\n",
    "sd = 1 / np.sqrt(n_dim)\n",
    "learning_rate = 0.001\n",
    "\n",
    "# variables for logging\n",
    "record_summaries = False\n",
    "training_mode = True\n",
    "checkpoint_dir = \"model\"\n",
    "assure_path_exists(checkpoint_dir)\n",
    "\n",
    "print \"Feature dimensions: \", n_dim"
   ]
  },
  {
   "cell_type": "code",
   "execution_count": 99,
   "metadata": {
    "collapsed": false
   },
   "outputs": [
    {
     "name": "stdout",
     "output_type": "stream",
     "text": [
      "Train on 7079 samples, validate on 816 samples\n",
      "Epoch 1/30\n",
      "7079/7079 [==============================] - 12s - loss: 2.4855 - acc: 0.3277 - val_loss: 1.5306 - val_acc: 0.4387\n",
      "Epoch 2/30\n",
      "7079/7079 [==============================] - 5s - loss: 1.5458 - acc: 0.5132 - val_loss: 1.5072 - val_acc: 0.5098\n",
      "Epoch 3/30\n",
      "7079/7079 [==============================] - 6s - loss: 1.2430 - acc: 0.6125 - val_loss: 1.8747 - val_acc: 0.5478\n",
      "Epoch 4/30\n",
      "7079/7079 [==============================] - 5s - loss: 1.0144 - acc: 0.6837 - val_loss: 1.9208 - val_acc: 0.5429\n",
      "Epoch 5/30\n",
      "7079/7079 [==============================] - 5s - loss: 0.8761 - acc: 0.7351 - val_loss: 2.0387 - val_acc: 0.5833\n",
      "Epoch 6/30\n",
      "7079/7079 [==============================] - 5s - loss: 0.7313 - acc: 0.7791 - val_loss: 2.3100 - val_acc: 0.5993\n",
      "Epoch 7/30\n",
      "7079/7079 [==============================] - 5s - loss: 0.6870 - acc: 0.7987 - val_loss: 2.1817 - val_acc: 0.6029\n",
      "Epoch 8/30\n",
      "7079/7079 [==============================] - 5s - loss: 0.6152 - acc: 0.8199 - val_loss: 2.4583 - val_acc: 0.5931\n"
     ]
    }
   ],
   "source": [
    "tf.set_random_seed(0)\n",
    "\n",
    "def create_model(activation_function='relu', dropout_rate=0.5):\n",
    "    model = Sequential()\n",
    "    model.add(Dense(n_hidden_units_1, input_dim=n_dim, init='normal', activation=activation_function))\n",
    "    model.add(Dense(n_hidden_units_2, init='normal', activation=activation_function))\n",
    "    model.add(Dropout(dropout_rate))\n",
    "    model.add(Dense(n_hidden_units_3, init='normal', activation=activation_function))\n",
    "    model.add(Dropout(dropout_rate))\n",
    "    model.add(Dense(n_classes, init='normal', activation='softmax'))\n",
    "    \n",
    "    adam = Adam(lr=0.001, beta_1=0.9, beta_2=0.999, epsilon=1e-08, decay=0)\n",
    "    model.compile(loss='categorical_crossentropy', optimizer=adam, metrics=['accuracy'])\n",
    "    return model\n",
    "\n",
    "# a stopping function should the validation loss stop improving\n",
    "earlystop = EarlyStopping(monitor='val_loss', patience=5, verbose=0, mode='auto')\n",
    "\n",
    "model = create_model()\n",
    "\n",
    "history = model.fit(train_x, train_y, validation_data=(valid_x, valid_y), callbacks=[earlystop], nb_epoch=30, batch_size=24)\n",
    "\n",
    "# best ROC 1 hidden layer = 0.89, F-Score: 0.591\n",
    "# best ROC 2 hidden layers (450,200) = 0.917, F-Score: 0.645"
   ]
  },
  {
   "cell_type": "code",
   "execution_count": 100,
   "metadata": {
    "collapsed": false
   },
   "outputs": [
    {
     "name": "stdout",
     "output_type": "stream",
     "text": [
      "ROC: 0.917\n",
      "837/837 [==============================] - 0s     \n",
      "\n",
      "Accuracy = 0.65\n",
      "F-Score: 0.645\n"
     ]
    }
   ],
   "source": [
    "from sklearn import metrics \n",
    "from keras.utils import np_utils\n",
    "\n",
    "# obtain the prediction probabilities\n",
    "y_prob = model.predict_proba(test_x, verbose=0)\n",
    "y_pred = np_utils.probas_to_classes(y_prob)\n",
    "y_true = np.argmax(test_y, 1)\n",
    "\n",
    "roc = metrics.roc_auc_score(test_y, y_prob)\n",
    "print \"ROC:\",  round(roc,3)\n",
    "\n",
    "# evaluate the model\n",
    "score, accuracy = model.evaluate(test_x, test_y, batch_size=32)\n",
    "print(\"\\nAccuracy = {:.2f}\".format(accuracy))\n",
    "\n",
    "p,r,f,s = precision_recall_fscore_support(y_true, y_pred, average='micro')\n",
    "print \"F-Score:\", round(f,3)"
   ]
  },
  {
   "cell_type": "code",
   "execution_count": 82,
   "metadata": {
    "collapsed": false
   },
   "outputs": [
    {
     "name": "stdout",
     "output_type": "stream",
     "text": [
      "Confusion_matrix\n",
      "           aircon   horn  child    dog  drill engine    gun hammer  siren  music\n",
      "    aircon     55      0     15      0      0     15      0     14      1      0\n",
      "      horn      0     25      1      0      3      2      0      0      0      2\n",
      "     child      0      2     74      7      0      5      2      0      7      3\n",
      "       dog      3      1     19     59      4      3      3      1      1      6\n",
      "     drill      0      2      2     14     60      0      0     18      3      1\n",
      "    engine      3      0     10     21      2     52      0      5      0      0\n",
      "       gun      0      0      0      8      0      0     23      0      1      0\n",
      "    hammer      3      0      5      0     10      2      0     75      0      1\n",
      "     siren      9      5     20      5      3      0      0      0     41      0\n",
      "     music      1      2     24      1     19      3      0      0      3     47\n"
     ]
    }
   ],
   "source": [
    "from sklearn.metrics import confusion_matrix\n",
    "\n",
    "labels = [\"aircon\",\"horn\",\"child\",\"dog\",\"drill\",\"engine\",\"gun\",\"hammer\",\"siren\",\"music\"]\n",
    "print \"Confusion_matrix\"\n",
    "cm = confusion_matrix(y_true, y_pred)\n",
    "\n",
    "def print_cm(cm, labels, hide_zeroes=False, hide_diagonal=False, hide_threshold=None):\n",
    "    \"\"\"pretty print for confusion matrixes\"\"\"\n",
    "    columnwidth = max([len(x) for x in labels]+[5]) # 5 is value length\n",
    "    empty_cell = \" \" * columnwidth\n",
    "    # Print header\n",
    "    print \"    \" + empty_cell,\n",
    "    for label in labels: \n",
    "        print \"%{0}s\".format(columnwidth) % label,\n",
    "    print\n",
    "    # Print rows\n",
    "    for i, label1 in enumerate(labels):\n",
    "        print \"    %{0}s\".format(columnwidth) % label1,\n",
    "        for j in range(len(labels)): \n",
    "            cell = \"%{0}s\".format(columnwidth) % cm[i, j]\n",
    "            if hide_zeroes:\n",
    "                cell = cell if float(cm[i, j]) != 0 else empty_cell\n",
    "            if hide_diagonal:\n",
    "                cell = cell if i != j else empty_cell\n",
    "            if hide_threshold:\n",
    "                cell = cell if cm[i, j] > hide_threshold else empty_cell\n",
    "            print cell,\n",
    "        print\n",
    "    \n",
    "print_cm(cm, labels)"
   ]
  },
  {
   "cell_type": "markdown",
   "metadata": {},
   "source": [
    "### Refinement and Optimisation"
   ]
  },
  {
   "cell_type": "markdown",
   "metadata": {},
   "source": [
    "Useful link: http://machinelearningmastery.com/grid-search-hyperparameters-deep-learning-models-python-keras/"
   ]
  },
  {
   "cell_type": "code",
   "execution_count": 84,
   "metadata": {
    "collapsed": false
   },
   "outputs": [
    {
     "name": "stdout",
     "output_type": "stream",
     "text": [
      "Running GridSearch...\n",
      "GridSearch complete\n",
      "Best: 0.510100 using {'optimiser': 'Adamax'}\n",
      "0.421246 (0.050156) with: {'optimiser': 'SGD'}\n",
      "0.489335 (0.013633) with: {'optimiser': 'RMSprop'}\n",
      "0.503602 (0.033003) with: {'optimiser': 'Adagrad'}\n",
      "0.487074 (0.023788) with: {'optimiser': 'Adadelta'}\n",
      "0.495691 (0.018508) with: {'optimiser': 'Adam'}\n",
      "0.510100 (0.011935) with: {'optimiser': 'Adamax'}\n",
      "0.464755 (0.055357) with: {'optimiser': 'Nadam'}\n"
     ]
    }
   ],
   "source": [
    "from keras.wrappers.scikit_learn import KerasClassifier\n",
    "from sklearn.model_selection import GridSearchCV\n",
    "from keras.constraints import maxnorm\n",
    "\n",
    "def create_model_param(activation_function='relu', dropout_rate=0.5, optimiser='Adamax'):\n",
    "    model = Sequential()\n",
    "    model.add(Dense(n_hidden_units_1, input_dim=n_dim, init='normal', activation=activation_function))\n",
    "    model.add(Dense(n_hidden_units_2, init='normal', activation=activation_function))\n",
    "    model.add(Dropout(dropout_rate))\n",
    "    model.add(Dense(n_hidden_units_3, init='normal', activation=activation_function))\n",
    "    model.add(Dropout(dropout_rate))\n",
    "    model.add(Dense(n_classes, init='normal', activation='softmax'))\n",
    "    \n",
    "    model.compile(loss='categorical_crossentropy', optimizer=optimiser, metrics=['accuracy'])\n",
    "    return model\n",
    "\n",
    "\n",
    "# activations = ['relu', 'tanh', 'linear']\n",
    "# batch_sizes = [10, 20, 30, 40, 50, 60]\n",
    "# epochs = [10, 20, 30]\n",
    "# dropout_rates = [0.0, 0.1, 0.2, 0.3, 0.4, 0.5, 0.6, 0.7, 0.8, 0.9]\n",
    "\n",
    "optimisers = ['SGD', 'RMSprop', 'Adagrad', 'Adadelta', 'Adam', 'Adamax', 'Nadam']\n",
    "\n",
    "model = KerasClassifier(build_fn=create_model_param, nb_epoch=10, batch_size=32, verbose=0)\n",
    "\n",
    "# define the grid search parameters\n",
    "param_grid = dict(optimiser=optimisers)\n",
    "grid = GridSearchCV(estimator=model, param_grid=param_grid, n_jobs=1)\n",
    "\n",
    "print \"Running GridSearch...\"\n",
    "grid_result = grid.fit(train_x, train_y)\n",
    "print \"GridSearch complete\"\n",
    "\n",
    "# summarize results\n",
    "print(\"Best: %f using %s\" % (grid_result.best_score_, grid_result.best_params_))\n",
    "means = grid_result.cv_results_['mean_test_score']\n",
    "stds = grid_result.cv_results_['std_test_score']\n",
    "params = grid_result.cv_results_['params']\n",
    "for mean, stdev, param in zip(means, stds, params):\n",
    "    print(\"%f (%f) with: %r\" % (mean, stdev, param))\n"
   ]
  },
  {
   "cell_type": "markdown",
   "metadata": {},
   "source": [
    "### Generating Predictions ###\n",
    "Once we've trained a model, we can use the following process to pass an audio file into our model and generate predictions, which will be the activation value (between 0 and 1) at the output layer for each of the 10 possible classes. Collectively, all the activations will sum to 1, meaning we can use argmax to show what the network's best guess is, as a well as providing a measure of its confidence.\n",
    "\n",
    "The following fragment considers 10 different audio samples, one for each class, showing the model's best guess (highest activation value), as well as the second best guess, which can provide useful insights in those cases where the model misidentifies the sample. After all, as you can see from the results, the predictions are not perfect. "
   ]
  },
  {
   "cell_type": "code",
   "execution_count": 101,
   "metadata": {
    "collapsed": false
   },
   "outputs": [
    {
     "name": "stdout",
     "output_type": "stream",
     "text": [
      "\n",
      "-----  air conditioner -----\n"
     ]
    },
    {
     "name": "stderr",
     "output_type": "stream",
     "text": [
      "/Users/jaron/anaconda/lib/python2.7/site-packages/numpy/core/numeric.py:482: VisibleDeprecationWarning: using a non-integer number instead of an integer will result in an error in the future\n",
      "  return array(a, dtype, copy=False, order=order)\n"
     ]
    },
    {
     "name": "stdout",
     "output_type": "stream",
     "text": [
      "Top guess:  air conditioner  ( 0.922 )\n",
      "2nd guess:  street music  ( 0.025 )\n",
      "\n",
      "-----  car horn -----\n",
      "Top guess:  car horn  ( 1.0 )\n",
      "2nd guess:  dog bark  ( 0.0 )\n",
      "\n",
      "-----  children playing -----\n",
      "Top guess:  children playing  ( 0.577 )\n",
      "2nd guess:  street music  ( 0.312 )\n",
      "\n",
      "-----  dog bark -----\n",
      "Top guess:  dog bark  ( 0.978 )\n",
      "2nd guess:  gun shot  ( 0.022 )\n",
      "\n",
      "-----  drilling -----\n",
      "Top guess:  drilling  ( 1.0 )\n",
      "2nd guess:  jackhammer  ( 0.0 )\n",
      "\n",
      "-----  engine idling -----\n",
      "Top guess:  engine idling  ( 1.0 )\n",
      "2nd guess:  street music  ( 0.0 )\n",
      "\n",
      "-----  gun shot -----\n",
      "Top guess:  gun shot  ( 0.695 )\n",
      "2nd guess:  dog bark  ( 0.174 )\n",
      "\n",
      "-----  jackhammer -----\n",
      "Top guess:  jackhammer  ( 0.889 )\n",
      "2nd guess:  air conditioner  ( 0.031 )\n",
      "\n",
      "-----  siren -----\n",
      "Top guess:  siren  ( 1.0 )\n",
      "2nd guess:  dog bark  ( 0.0 )\n",
      "\n",
      "-----  street music -----\n",
      "Top guess:  street music  ( 1.0 )\n",
      "2nd guess:  children playing  ( 0.0 )\n"
     ]
    }
   ],
   "source": [
    "import librosa\n",
    "\n",
    "sound_file_paths = [\"aircon.wav\", \"carhorn.wav\", \"play.wav\", \"dogbark.wav\", \"drill.wav\",\n",
    "                    \"engine.wav\",\"gunshots.wav\",\"jackhammer.wav\",\"siren.wav\",\"music.wav\"]\n",
    "sound_names = [\"air conditioner\",\"car horn\",\"children playing\",\"dog bark\",\"drilling\",\"engine idling\",\n",
    "               \"gun shot\",\"jackhammer\",\"siren\",\"street music\"]\n",
    "parent_dir = 'samples/us8k/'\n",
    "\n",
    "\n",
    "# just extract the features, \n",
    "def extract_features_only(filename):\n",
    "    features = np.empty((0,193))\n",
    "    X, sample_rate = librosa.load(filename)\n",
    "    stft = np.abs(librosa.stft(X))\n",
    "    mfccs = np.mean(librosa.feature.mfcc(y=X, sr=sample_rate, n_mfcc=40).T,axis=0)\n",
    "    chroma = np.mean(librosa.feature.chroma_stft(S=stft, sr=sample_rate).T,axis=0)\n",
    "    mel = np.mean(librosa.feature.melspectrogram(X, sr=sample_rate).T,axis=0)\n",
    "    contrast = np.mean(librosa.feature.spectral_contrast(S=stft, sr=sample_rate).T,axis=0)\n",
    "    tonnetz = np.mean(librosa.feature.tonnetz(y=librosa.effects.harmonic(X), sr=sample_rate).T,axis=0)\n",
    "    ext_features = np.hstack([mfccs,chroma,mel,contrast,tonnetz])\n",
    "    features = np.vstack([features,ext_features])\n",
    "    return features\n",
    "\n",
    "# create predictions for each of the sound classes\n",
    "for s in range(len(sound_names)):\n",
    "\n",
    "    print \"\\n----- \", sound_names[s], \"-----\"\n",
    "    # load audio file and extract features\n",
    "    predict_file = parent_dir + sound_file_paths[s]\n",
    "    predict_x = extract_features_only(predict_file)\n",
    "    \n",
    "    # generate prediction, passing in just a single row of features\n",
    "    predictions = model.predict(predict_x)\n",
    "    \n",
    "    #for i in range(len(predictions[0])):\n",
    "    #    print sound_names[i], \"=\", round(predictions[0,i] * 100, 1)\n",
    "    \n",
    "    # get the indices of the top 2 predictions, invert into descending order\n",
    "    ind = np.argpartition(predictions[0], -2)[-2:]\n",
    "    ind[np.argsort(predictions[0][ind])]\n",
    "    ind = ind[::-1]\n",
    "    \n",
    "    print \"Top guess: \", sound_names[ind[0]], \" (\",round(predictions[0,ind[0]],3),\")\"\n",
    "    print \"2nd guess: \", sound_names[ind[1]], \" (\",round(predictions[0,ind[1]],3),\")\"\n"
   ]
  },
  {
   "cell_type": "markdown",
   "metadata": {},
   "source": [
    "As the feature extraction process relies on slicing the sound recordings into smaller, more manageable chunks, if we needed to predict the class of a longer recording, we might need to employ some kind of ensemble learning, where we establish a prediction for each slice of the recording, and then use a voting process to determine which source is declared the best guess. \n",
    "\n",
    "This voting approach could make use of the fact that the softmax activation function will return equivocal values if it has low confidence in its prediction. An example of that can be seen above in the gunshot example, where dogbark and gunshot have very similar probabilities. In such cases we could ignore weak predictions, ensuring only strong predictions contribute to the final voting decision. A system that uses this approach is described here: https://chatbotslife.com/finding-the-genre-of-a-song-with-deep-learning-da8f59a61194"
   ]
  },
  {
   "cell_type": "markdown",
   "metadata": {},
   "source": [
    "### Evaluating Convergence"
   ]
  },
  {
   "cell_type": "markdown",
   "metadata": {},
   "source": [
    "There is also valuable information about learning performance in the history object. This can, for instance, reveal the speed of convergence over epochs, initially a slope, which may ultimately plateau out.\n",
    "Whether the mode may be over-learning the training data (inflection for validation line).\n",
    "\n",
    "From the plot of accuracy indicates whether the model could be trained further (if the accuracy trend is still rising for the final epochs). It will also indicate if the model has over-learned the training dataset, it should show comparable performance on both train and test datasets.\n",
    "\n",
    "If the model is overfitting the accuracy graph will show excellent performance on the training data, and poor performance on the test data.\n",
    "\n",
    "Ideally, in the loss graph, we should see comparable performance in both the training and validation datasets. Should these parallel plots start to diverge, it might be a indication we should stop training earlier.\n"
   ]
  },
  {
   "cell_type": "code",
   "execution_count": 102,
   "metadata": {
    "collapsed": false
   },
   "outputs": [
    {
     "name": "stdout",
     "output_type": "stream",
     "text": [
      "History keys: ['acc', 'loss', 'val_acc', 'val_loss']\n"
     ]
    },
    {
     "data": {
      "image/png": "[encoded data removed]",
      "text/plain": [
       "<matplotlib.figure.Figure at 0x1d792a790>"
      ]
     },
     "metadata": {},
     "output_type": "display_data"
    }
   ],
   "source": [
    "fig = plt.figure(figsize=(16,8))\n",
    "\n",
    "print \"History keys:\", (history.history.keys())\n",
    "# summarise history for training and validation set accuracy\n",
    "plt.subplot(1,2,1)\n",
    "plt.plot(history.history['acc'])\n",
    "plt.plot(history.history['val_acc'])\n",
    "plt.title('Model Accuracy')\n",
    "plt.ylabel('accuracy')\n",
    "plt.xlabel('epoch')\n",
    "plt.legend(['train', 'validation'], loc='upper left')\n",
    "\n",
    "# summarise history for training and validation set loss\n",
    "plt.subplot(1,2,2)\n",
    "plt.plot(history.history['loss'])\n",
    "plt.plot(history.history['val_loss'])\n",
    "plt.title('Model Loss')\n",
    "plt.ylabel('loss')\n",
    "plt.xlabel('epoch')\n",
    "plt.legend(['train', 'validation'], loc='upper left')\n",
    "plt.show()"
   ]
  },
  {
   "cell_type": "markdown",
   "metadata": {
    "collapsed": true
   },
   "source": [
    "See explanation at http://machinelearningmastery.com/display-deep-learning-model-training-history-in-keras/"
   ]
  }
 ],
 "metadata": {
  "kernelspec": {
   "display_name": "Python 2",
   "language": "python",
   "name": "python2"
  },
  "language_info": {
   "codemirror_mode": {
    "name": "ipython",
    "version": 2
   },
   "file_extension": ".py",
   "mimetype": "text/x-python",
   "name": "python",
   "nbconvert_exporter": "python",
   "pygments_lexer": "ipython2",
   "version": "2.7.11"
  }
 },
 "nbformat": 4,
 "nbformat_minor": 0
}
