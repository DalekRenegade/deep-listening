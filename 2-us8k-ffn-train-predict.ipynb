{
 "cells": [
  {
   "cell_type": "markdown",
   "metadata": {
    "collapsed": true
   },
   "source": [
    "## Workbook 2 - Training a Feed-Forward Neural Network using UrbanSound8K audio data "
   ]
  },
  {
   "cell_type": "markdown",
   "metadata": {},
   "source": [
    "This loads the features we extracted using librosa (see workbook 1), and uses them to train a Feed-Forward Network, a simple deep neural net with a few hidden layers, and then predict the class of a set of previously unheard audio files."
   ]
  },
  {
   "cell_type": "code",
   "execution_count": 11,
   "metadata": {
    "collapsed": false
   },
   "outputs": [],
   "source": [
    "import glob\n",
    "import os\n",
    "import numpy as np\n",
    "import matplotlib.pyplot as plt\n",
    "%matplotlib inline\n",
    "plt.style.use('ggplot')"
   ]
  },
  {
   "cell_type": "markdown",
   "metadata": {},
   "source": [
    "This code below loads previously computed numpy features for each of the 10 folds, we'll use the first 8 for training, and keep one back for validation and one for testing."
   ]
  },
  {
   "cell_type": "code",
   "execution_count": 12,
   "metadata": {
    "collapsed": false
   },
   "outputs": [
    {
     "name": "stdout",
     "output_type": "stream",
     "text": [
      "\n",
      "Adding fold1\n",
      "New Features:  (873, 193)\n",
      "\n",
      "Adding fold2\n",
      "New Features:  (888, 193)\n",
      "\n",
      "Adding fold3\n",
      "New Features:  (925, 193)\n",
      "\n",
      "Adding fold4\n",
      "New Features:  (990, 193)\n",
      "\n",
      "Adding fold5\n",
      "New Features:  (936, 193)\n",
      "\n",
      "Adding fold6\n",
      "New Features:  (823, 193)\n",
      "\n",
      "Adding fold7\n",
      "New Features:  (838, 193)\n",
      "\n",
      "Adding fold8\n",
      "New Features:  (806, 193)\n",
      "\n",
      "Training Set Features:  (7079, 193)\n",
      "Training Set Labels:  (7079, 10)\n",
      "Test Set Features:   (837, 193)\n",
      "Test Set Labels:   (837, 10)\n"
     ]
    }
   ],
   "source": [
    "data_dir = \"data/us8k-np-ffn\"\n",
    "\n",
    "def add_folds():\n",
    "    subsequent_fold = False\n",
    "    for k in range(1,9):\n",
    "        fold_name = 'fold' + str(k)\n",
    "        print \"\\nAdding \" + fold_name\n",
    "        feature_file = os.path.join(data_dir, fold_name + '_x.npy')\n",
    "        labels_file = os.path.join(data_dir, fold_name + '_y.npy')\n",
    "        loaded_features = np.load(feature_file)\n",
    "        loaded_labels = np.load(labels_file)\n",
    "        print \"New Features: \", loaded_features.shape\n",
    "\n",
    "        if subsequent_fold:\n",
    "            features = np.concatenate((features, loaded_features))\n",
    "            labels = np.concatenate((labels, loaded_labels))\n",
    "        else:\n",
    "            features = loaded_features\n",
    "            labels = loaded_labels\n",
    "            subsequent_fold = True\n",
    "        \n",
    "    return features, labels\n",
    "\n",
    "train_x, train_y = add_folds()\n",
    "\n",
    "# use a fold for validation\n",
    "valid_fold_name = 'fold9'\n",
    "feature_file = os.path.join(data_dir, valid_fold_name + '_x.npy')\n",
    "labels_file = os.path.join(data_dir, valid_fold_name + '_y.npy')\n",
    "valid_x = np.load(feature_file)\n",
    "valid_y = np.load(labels_file) \n",
    "\n",
    "# and a fold for testing\n",
    "test_fold_name = 'fold10'\n",
    "feature_file = os.path.join(data_dir, test_fold_name + '_x.npy')\n",
    "labels_file = os.path.join(data_dir, test_fold_name + '_y.npy')\n",
    "test_x = np.load(feature_file)\n",
    "test_y = np.load(labels_file)\n",
    "\n",
    "print \"\\nTraining Set Features: \", train_x.shape\n",
    "print \"Training Set Labels: \", train_y.shape\n",
    "print \"Test Set Features:  \", test_x.shape\n",
    "print \"Test Set Labels:  \", test_y.shape\n"
   ]
  },
  {
   "cell_type": "markdown",
   "metadata": {},
   "source": [
    "--------------------------------------------------------------------------------------------------------------------------"
   ]
  },
  {
   "cell_type": "markdown",
   "metadata": {},
   "source": [
    "### Training Neural Network with Keras and TensorFlow"
   ]
  },
  {
   "cell_type": "code",
   "execution_count": 13,
   "metadata": {
    "collapsed": false
   },
   "outputs": [
    {
     "name": "stderr",
     "output_type": "stream",
     "text": [
      "Using TensorFlow backend.\n"
     ]
    }
   ],
   "source": [
    "import tensorflow as tf\n",
    "from sklearn.metrics import precision_recall_fscore_support, roc_auc_score\n",
    "from keras.models import Sequential\n",
    "from keras.layers import Dense, Dropout\n",
    "from keras.optimizers import Adam\n",
    "from keras.callbacks import EarlyStopping\n",
    "\n",
    "tf.set_random_seed(0)"
   ]
  },
  {
   "cell_type": "code",
   "execution_count": 96,
   "metadata": {
    "collapsed": false
   },
   "outputs": [
    {
     "name": "stdout",
     "output_type": "stream",
     "text": [
      "Feature dimensions:  193\n"
     ]
    }
   ],
   "source": [
    "def assure_path_exists(path):\n",
    "    mydir = os.path.join(os.getcwd(), path)\n",
    "    if not os.path.exists(mydir):\n",
    "        os.makedirs(mydir)\n",
    "\n",
    "# this is redundant and can be updated for Keras\n",
    "training_epochs = 20\n",
    "n_dim = train_x.shape[1]\n",
    "n_classes = 10\n",
    "n_hidden_units_1 = 500 \n",
    "n_hidden_units_2 = 500\n",
    "n_hidden_units_3 = 500\n",
    "sd = 1 / np.sqrt(n_dim)\n",
    "learning_rate = 0.001\n",
    "\n",
    "# variables for logging\n",
    "record_summaries = False\n",
    "training_mode = True\n",
    "checkpoint_dir = \"model\"\n",
    "assure_path_exists(checkpoint_dir)\n",
    "\n",
    "print \"Feature dimensions: \", n_dim"
   ]
  },
  {
   "cell_type": "code",
   "execution_count": 106,
   "metadata": {
    "collapsed": false
   },
   "outputs": [
    {
     "name": "stdout",
     "output_type": "stream",
     "text": [
      "Train on 7079 samples, validate on 816 samples\n",
      "Epoch 1/30\n",
      "7079/7079 [==============================] - 7s - loss: 6.8598 - acc: 0.2805 - val_loss: 2.1764 - val_acc: 0.4547\n",
      "Epoch 2/30\n",
      "7079/7079 [==============================] - 6s - loss: 1.8390 - acc: 0.4882 - val_loss: 2.0845 - val_acc: 0.5000\n",
      "Epoch 3/30\n",
      "7079/7079 [==============================] - 6s - loss: 1.4249 - acc: 0.5831 - val_loss: 1.6767 - val_acc: 0.5711\n",
      "Epoch 4/30\n",
      "7079/7079 [==============================] - 7s - loss: 1.2406 - acc: 0.6436 - val_loss: 1.8663 - val_acc: 0.5637\n",
      "Epoch 5/30\n",
      "7079/7079 [==============================] - 7s - loss: 1.0463 - acc: 0.6933 - val_loss: 1.8772 - val_acc: 0.5797\n",
      "Epoch 6/30\n",
      "7079/7079 [==============================] - 7s - loss: 0.9352 - acc: 0.7306 - val_loss: 1.9323 - val_acc: 0.5735\n",
      "Epoch 7/30\n",
      "7079/7079 [==============================] - 6s - loss: 0.8091 - acc: 0.7652 - val_loss: 1.9978 - val_acc: 0.5882\n",
      "Epoch 8/30\n",
      "7079/7079 [==============================] - 7s - loss: 0.7149 - acc: 0.7938 - val_loss: 2.0590 - val_acc: 0.5711\n",
      "Epoch 9/30\n",
      "7079/7079 [==============================] - 7s - loss: 0.6734 - acc: 0.8100 - val_loss: 1.9305 - val_acc: 0.5907\n"
     ]
    }
   ],
   "source": [
    "model = Sequential()\n",
    "model.add(Dense(n_hidden_units_1, input_dim=n_dim, init='normal', activation='relu'))\n",
    "model.add(Dense(n_hidden_units_2, init='normal', activation='relu'))\n",
    "model.add(Dropout(0.5))\n",
    "model.add(Dense(n_hidden_units_3, init='normal', activation='relu'))\n",
    "model.add(Dropout(0.5))\n",
    "model.add(Dense(n_classes, init='normal', activation='softmax'))\n",
    "\n",
    "# a stopping function should the validation loss stop improving\n",
    "earlystop = EarlyStopping(monitor='val_loss', patience=5, verbose=0, mode='auto')\n",
    "\n",
    "adam = Adam(lr=0.001, beta_1=0.9, beta_2=0.999, epsilon=1e-08, decay=0)\n",
    "\n",
    "model.compile(loss='categorical_crossentropy', optimizer=adam, metrics=['accuracy'])\n",
    "\n",
    "history = model.fit(train_x, train_y, validation_data=(valid_x, valid_y), callbacks=[earlystop], nb_epoch=30, batch_size=32)"
   ]
  },
  {
   "cell_type": "code",
   "execution_count": 107,
   "metadata": {
    "collapsed": false
   },
   "outputs": [
    {
     "name": "stdout",
     "output_type": "stream",
     "text": [
      "ROC: 0.907\n",
      "837/837 [==============================] - 0s     \n",
      "\n",
      "Accuracy = 0.61\n",
      "F-Score: 0.608\n"
     ]
    }
   ],
   "source": [
    "from sklearn import metrics \n",
    "from keras.utils import np_utils\n",
    "\n",
    "# obtain the prediction probabilities\n",
    "y_prob = model.predict_proba(test_x, verbose=0)\n",
    "y_pred = np_utils.probas_to_classes(y_prob)\n",
    "y_true = np.argmax(test_y, 1)\n",
    "\n",
    "roc = metrics.roc_auc_score(test_y, y_prob)\n",
    "print \"ROC:\",  round(roc,3)\n",
    "\n",
    "# evaluate the model\n",
    "score, accuracy = model.evaluate(test_x, test_y, batch_size=32)\n",
    "print(\"\\nAccuracy = {:.2f}\".format(accuracy))\n",
    "\n",
    "p,r,f,s = precision_recall_fscore_support(y_true, y_pred, average='micro')\n",
    "print \"F-Score:\", round(f,3)"
   ]
  },
  {
   "cell_type": "code",
   "execution_count": 108,
   "metadata": {
    "collapsed": false
   },
   "outputs": [
    {
     "name": "stdout",
     "output_type": "stream",
     "text": [
      "Confusion_matrix\n",
      "           aircon   horn  child    dog  drill engine    gun hammer  siren  music\n",
      "    aircon     35      0     26      0      1      8      0     14      6     10\n",
      "      horn      0     24      2      2      0      0      1      1      0      3\n",
      "     child      0      0     69     13      0      0      0      0     12      6\n",
      "       dog      3      0     18     58      3      4      0      0      5      9\n",
      "     drill      2      1      6      3     56      2      2     10     13      5\n",
      "    engine      1      0     23      1      3     52      0      5      2      6\n",
      "       gun      0      0      7      3      0      0     19      0      3      0\n",
      "    hammer      0      0      4      0     12      1      0     78      0      1\n",
      "     siren      2      3     25      3      5      0      0      1     44      0\n",
      "     music      0      2     15      1      4      2      0      0      2     74\n"
     ]
    }
   ],
   "source": [
    "from sklearn.metrics import confusion_matrix\n",
    "\n",
    "labels = [\"aircon\",\"horn\",\"child\",\"dog\",\"drill\",\"engine\",\"gun\",\"hammer\",\"siren\",\"music\"]\n",
    "print \"Confusion_matrix\"\n",
    "cm = confusion_matrix(y_true, y_pred)\n",
    "\n",
    "def print_cm(cm, labels, hide_zeroes=False, hide_diagonal=False, hide_threshold=None):\n",
    "    \"\"\"pretty print for confusion matrixes\"\"\"\n",
    "    columnwidth = max([len(x) for x in labels]+[5]) # 5 is value length\n",
    "    empty_cell = \" \" * columnwidth\n",
    "    # Print header\n",
    "    print \"    \" + empty_cell,\n",
    "    for label in labels: \n",
    "        print \"%{0}s\".format(columnwidth) % label,\n",
    "    print\n",
    "    # Print rows\n",
    "    for i, label1 in enumerate(labels):\n",
    "        print \"    %{0}s\".format(columnwidth) % label1,\n",
    "        for j in range(len(labels)): \n",
    "            cell = \"%{0}s\".format(columnwidth) % cm[i, j]\n",
    "            if hide_zeroes:\n",
    "                cell = cell if float(cm[i, j]) != 0 else empty_cell\n",
    "            if hide_diagonal:\n",
    "                cell = cell if i != j else empty_cell\n",
    "            if hide_threshold:\n",
    "                cell = cell if cm[i, j] > hide_threshold else empty_cell\n",
    "            print cell,\n",
    "        print\n",
    "    \n",
    "print_cm(cm, labels)"
   ]
  },
  {
   "cell_type": "markdown",
   "metadata": {},
   "source": [
    "### Generating Predictions ###\n",
    "Once we've trained a model, we can use the following process to pass an audio file into our model and generate predictions, which will be the activation value (between 0 and 1) at the output layer for each of the 10 possible classes. Collectively, all the activations will sum to 1, meaning we can use argmax to show what the network's best guess is, as a well as providing a measure of its confidence.\n",
    "\n",
    "The following fragment considers 10 different audio samples, one for each class, showing the model's best guess (highest activation value), as well as the second best guess, which can provide useful insights in those cases where the model misidentifies the sample. After all, as you can see from the results, the predictions are not perfect. "
   ]
  },
  {
   "cell_type": "code",
   "execution_count": 109,
   "metadata": {
    "collapsed": false
   },
   "outputs": [
    {
     "name": "stdout",
     "output_type": "stream",
     "text": [
      "\n",
      "-----  air conditioner -----\n",
      "Top guess:  jackhammer  ( 0.546 )\n",
      "2nd guess:  air conditioner  ( 0.226 )\n",
      "\n",
      "-----  car horn -----\n",
      "Top guess:  car horn  ( 1.0 )\n",
      "2nd guess:  dog bark  ( 0.0 )\n",
      "\n",
      "-----  children playing -----\n",
      "Top guess:  children playing  ( 0.433 )\n",
      "2nd guess:  street music  ( 0.411 )\n",
      "\n",
      "-----  dog bark -----\n",
      "Top guess:  dog bark  ( 0.999 )\n",
      "2nd guess:  gun shot  ( 0.001 )\n",
      "\n",
      "-----  drilling -----\n",
      "Top guess:  drilling  ( 0.999 )\n",
      "2nd guess:  jackhammer  ( 0.001 )\n",
      "\n",
      "-----  engine idling -----\n",
      "Top guess:  engine idling  ( 0.648 )\n",
      "2nd guess:  street music  ( 0.152 )\n",
      "\n",
      "-----  gun shot -----\n",
      "Top guess:  dog bark  ( 0.33 )\n",
      "2nd guess:  gun shot  ( 0.289 )\n",
      "\n",
      "-----  jackhammer -----\n",
      "Top guess:  jackhammer  ( 0.982 )\n",
      "2nd guess:  air conditioner  ( 0.015 )\n",
      "\n",
      "-----  siren -----\n",
      "Top guess:  siren  ( 0.99 )\n",
      "2nd guess:  dog bark  ( 0.009 )\n",
      "\n",
      "-----  street music -----\n",
      "Top guess:  street music  ( 1.0 )\n",
      "2nd guess:  jackhammer  ( 0.0 )\n"
     ]
    }
   ],
   "source": [
    "import librosa\n",
    "\n",
    "sound_file_paths = [\"aircon.wav\", \"carhorn.wav\", \"play.wav\", \"dogbark.wav\", \"drill.wav\",\n",
    "                    \"engine.wav\",\"gunshots.wav\",\"jackhammer.wav\",\"siren.wav\",\"music.wav\"]\n",
    "sound_names = [\"air conditioner\",\"car horn\",\"children playing\",\"dog bark\",\"drilling\",\"engine idling\",\n",
    "               \"gun shot\",\"jackhammer\",\"siren\",\"street music\"]\n",
    "parent_dir = 'samples/us8k/'\n",
    "\n",
    "\n",
    "# just extract the features, \n",
    "def extract_features_only(filename):\n",
    "    features = np.empty((0,193))\n",
    "    X, sample_rate = librosa.load(filename)\n",
    "    stft = np.abs(librosa.stft(X))\n",
    "    mfccs = np.mean(librosa.feature.mfcc(y=X, sr=sample_rate, n_mfcc=40).T,axis=0)\n",
    "    chroma = np.mean(librosa.feature.chroma_stft(S=stft, sr=sample_rate).T,axis=0)\n",
    "    mel = np.mean(librosa.feature.melspectrogram(X, sr=sample_rate).T,axis=0)\n",
    "    contrast = np.mean(librosa.feature.spectral_contrast(S=stft, sr=sample_rate).T,axis=0)\n",
    "    tonnetz = np.mean(librosa.feature.tonnetz(y=librosa.effects.harmonic(X), sr=sample_rate).T,axis=0)\n",
    "    ext_features = np.hstack([mfccs,chroma,mel,contrast,tonnetz])\n",
    "    features = np.vstack([features,ext_features])\n",
    "    return features\n",
    "\n",
    "# create predictions for each of the sound classes\n",
    "for s in range(len(sound_names)):\n",
    "\n",
    "    print \"\\n----- \", sound_names[s], \"-----\"\n",
    "    # load audio file and extract features\n",
    "    predict_file = parent_dir + sound_file_paths[s]\n",
    "    predict_x = extract_features_only(predict_file)\n",
    "    \n",
    "    # generate prediction, passing in just a single row of features\n",
    "    predictions = model.predict(predict_x)\n",
    "    \n",
    "    #for i in range(len(predictions[0])):\n",
    "    #    print sound_names[i], \"=\", round(predictions[0,i] * 100, 1)\n",
    "    \n",
    "    # get the indices of the top 2 predictions, invert into descending order\n",
    "    ind = np.argpartition(predictions[0], -2)[-2:]\n",
    "    ind[np.argsort(predictions[0][ind])]\n",
    "    ind = ind[::-1]\n",
    "    \n",
    "    print \"Top guess: \", sound_names[ind[0]], \" (\",round(predictions[0,ind[0]],3),\")\"\n",
    "    print \"2nd guess: \", sound_names[ind[1]], \" (\",round(predictions[0,ind[1]],3),\")\"\n"
   ]
  },
  {
   "cell_type": "markdown",
   "metadata": {},
   "source": [
    "There is also valuable information about learning performance in the history object. This can, for instance, reveal the speed of convergence over epochs, initially a slope, which may ultimately plateau out.\n",
    "Whether the mode may be over-learning the training data (inflection for validation line).\n",
    "\n",
    "From the plot of accuracy indicates whether the model could be trained further (if the accuracy trend is still rising for the final epochs). It will also indicate if the model has over-learned the training dataset, it should show comparable performance on both train and test datasets.\n",
    "\n",
    "If the model is overfitting the accuracy graph will show excellent performance on the training data, and poor performance on the test data.\n",
    "\n",
    "Ideally, in the loss graph, we should see comparable performance in both the training and validation datasets. Should these parallel plots start to diverge, it might be a indication we should stop training earlier.\n"
   ]
  },
  {
   "cell_type": "code",
   "execution_count": 110,
   "metadata": {
    "collapsed": false
   },
   "outputs": [
    {
     "name": "stdout",
     "output_type": "stream",
     "text": [
      "History keys: ['acc', 'loss', 'val_acc', 'val_loss']\n"
     ]
    },
    {
     "data": {
      "image/png": "[encoded data removed]",
      "text/plain": [
       "<matplotlib.figure.Figure at 0x1351d7b10>"
      ]
     },
     "metadata": {},
     "output_type": "display_data"
    }
   ],
   "source": [
    "fig = plt.figure(figsize=(16,8))\n",
    "\n",
    "print \"History keys:\", (history.history.keys())\n",
    "# summarise history for training and validation set accuracy\n",
    "plt.subplot(1,2,1)\n",
    "plt.plot(history.history['acc'])\n",
    "plt.plot(history.history['val_acc'])\n",
    "plt.title('Model Accuracy')\n",
    "plt.ylabel('accuracy')\n",
    "plt.xlabel('epoch')\n",
    "plt.legend(['train', 'validation'], loc='upper left')\n",
    "\n",
    "# summarise history for training and validation set loss\n",
    "plt.subplot(1,2,2)\n",
    "plt.plot(history.history['loss'])\n",
    "plt.plot(history.history['val_loss'])\n",
    "plt.title('Model Loss')\n",
    "plt.ylabel('loss')\n",
    "plt.xlabel('epoch')\n",
    "plt.legend(['train', 'validation'], loc='upper left')\n",
    "plt.show()"
   ]
  },
  {
   "cell_type": "code",
   "execution_count": null,
   "metadata": {
    "collapsed": true
   },
   "outputs": [],
   "source": []
  }
 ],
 "metadata": {
  "kernelspec": {
   "display_name": "Python 2",
   "language": "python",
   "name": "python2"
  },
  "language_info": {
   "codemirror_mode": {
    "name": "ipython",
    "version": 2
   },
   "file_extension": ".py",
   "mimetype": "text/x-python",
   "name": "python",
   "nbconvert_exporter": "python",
   "pygments_lexer": "ipython2",
   "version": "2.7.11"
  }
 },
 "nbformat": 4,
 "nbformat_minor": 0
}
